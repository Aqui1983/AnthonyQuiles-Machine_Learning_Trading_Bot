{
 "cells": [
  {
   "cell_type": "markdown",
   "metadata": {},
   "source": [
    "# Machine Learning Trading Bot\n",
    "\n",
    "In this Challenge, you’ll assume the role of a financial advisor at one of the top five financial advisory firms in the world. Your firm constantly competes with the other major firms to manage and automatically trade assets in a highly dynamic environment. In recent years, your firm has heavily profited by using computer algorithms that can buy and sell faster than human traders.\n",
    "\n",
    "The speed of these transactions gave your firm a competitive advantage early on. But, people still need to specifically program these systems, which limits their ability to adapt to new data. You’re thus planning to improve the existing algorithmic trading systems and maintain the firm’s competitive advantage in the market. To do so, you’ll enhance the existing trading signals with machine learning algorithms that can adapt to new data.\n",
    "\n",
    "## Instructions:\n",
    "\n",
    "Use the starter code file to complete the steps that the instructions outline. The steps for this Challenge are divided into the following sections:\n",
    "\n",
    "* Establish a Baseline Performance\n",
    "\n",
    "* Tune the Baseline Trading Algorithm\n",
    "\n",
    "* Evaluate a New Machine Learning Classifier\n",
    "\n",
    "* Create an Evaluation Report\n",
    "\n",
    "#### Establish a Baseline Performance\n",
    "\n",
    "In this section, you’ll run the provided starter code to establish a baseline performance for the trading algorithm. To do so, complete the following steps.\n",
    "\n",
    "Open the Jupyter notebook. Restart the kernel, run the provided cells that correspond with the first three steps, and then proceed to step four. \n",
    "\n",
    "1. Import the OHLCV dataset into a Pandas DataFrame.\n",
    "\n",
    "2. Generate trading signals using short- and long-window SMA values. \n",
    "\n",
    "3. Split the data into training and testing datasets.\n",
    "\n",
    "4. Use the `SVC` classifier model from SKLearn's support vector machine (SVM) learning method to fit the training data and make predictions based on the testing data. Review the predictions.\n",
    "\n",
    "5. Review the classification report associated with the `SVC` model predictions. \n",
    "\n",
    "6. Create a predictions DataFrame that contains columns for “Predicted” values, “Actual Returns”, and “Strategy Returns”.\n",
    "\n",
    "7. Create a cumulative return plot that shows the actual returns vs. the strategy returns. Save a PNG image of this plot. This will serve as a baseline against which to compare the effects of tuning the trading algorithm.\n",
    "\n",
    "8. Write your conclusions about the performance of the baseline trading algorithm in the `README.md` file that’s associated with your GitHub repository. Support your findings by using the PNG image that you saved in the previous step.\n",
    "\n",
    "#### Tune the Baseline Trading Algorithm\n",
    "\n",
    "In this section, you’ll tune, or adjust, the model’s input features to find the parameters that result in the best trading outcomes. (You’ll choose the best by comparing the cumulative products of the strategy returns.) To do so, complete the following steps:\n",
    "\n",
    "1. Tune the training algorithm by adjusting the size of the training dataset. To do so, slice your data into different periods. Rerun the notebook with the updated parameters, and record the results in your `README.md` file. Answer the following question: What impact resulted from increasing or decreasing the training window?\n",
    "\n",
    "> **Hint** To adjust the size of the training dataset, you can use a different `DateOffset` value&mdash;for example, six months. Be aware that changing the size of the training dataset also affects the size of the testing dataset.\n",
    "\n",
    "2. Tune the trading algorithm by adjusting the SMA input features. Adjust one or both of the windows for the algorithm. Rerun the notebook with the updated parameters, and record the results in your `README.md` file. Answer the following question: What impact resulted from increasing or decreasing either or both of the SMA windows?\n",
    "\n",
    "3. Choose the set of parameters that best improved the trading algorithm returns. Save a PNG image of the cumulative product of the actual returns vs. the strategy returns, and document your conclusion in your `README.md` file.\n",
    "\n",
    "#### Evaluate a New Machine Learning Classifier\n",
    "\n",
    "In this section, you’ll use the original parameters that the starter code provided. But, you’ll apply them to the performance of a second machine learning model. To do so, complete the following steps:\n",
    "\n",
    "1. Import a new classifier, such as `AdaBoost`, `DecisionTreeClassifier`, or `LogisticRegression`. (For the full list of classifiers, refer to the [Supervised learning page](https://scikit-learn.org/stable/supervised_learning.html) in the scikit-learn documentation.)\n",
    "\n",
    "2. Using the original training data as the baseline model, fit another model with the new classifier.\n",
    "\n",
    "3. Backtest the new model to evaluate its performance. Save a PNG image of the cumulative product of the actual returns vs. the strategy returns for this updated trading algorithm, and write your conclusions in your `README.md` file. Answer the following questions: Did this new model perform better or worse than the provided baseline model? Did this new model perform better or worse than your tuned trading algorithm?\n",
    "\n",
    "#### Create an Evaluation Report\n",
    "\n",
    "In the previous sections, you updated your `README.md` file with your conclusions. To accomplish this section, you need to add a summary evaluation report at the end of the `README.md` file. For this report, express your final conclusions and analysis. Support your findings by using the PNG images that you created.\n"
   ]
  },
  {
   "cell_type": "code",
   "execution_count": 53,
   "metadata": {},
   "outputs": [],
   "source": [
    "# Imports\n",
    "import pandas as pd\n",
    "import numpy as np\n",
    "from pathlib import Path\n",
    "import hvplot.pandas\n",
    "import matplotlib.pyplot as plt\n",
    "from sklearn import svm\n",
    "from sklearn.preprocessing import StandardScaler\n",
    "from pandas.tseries.offsets import DateOffset\n",
    "from sklearn.metrics import classification_report"
   ]
  },
  {
   "cell_type": "markdown",
   "metadata": {},
   "source": [
    "---\n",
    "\n",
    "## Establish a Baseline Performance\n",
    "\n",
    "In this section, you’ll run the provided starter code to establish a baseline performance for the trading algorithm. To do so, complete the following steps.\n",
    "\n",
    "Open the Jupyter notebook. Restart the kernel, run the provided cells that correspond with the first three steps, and then proceed to step four. \n"
   ]
  },
  {
   "cell_type": "markdown",
   "metadata": {},
   "source": [
    "### Step 1: Import the OHLCV dataset into a Pandas DataFrame."
   ]
  },
  {
   "cell_type": "code",
   "execution_count": 54,
   "metadata": {},
   "outputs": [
    {
     "data": {
      "text/html": [
       "<div>\n",
       "<style scoped>\n",
       "    .dataframe tbody tr th:only-of-type {\n",
       "        vertical-align: middle;\n",
       "    }\n",
       "\n",
       "    .dataframe tbody tr th {\n",
       "        vertical-align: top;\n",
       "    }\n",
       "\n",
       "    .dataframe thead th {\n",
       "        text-align: right;\n",
       "    }\n",
       "</style>\n",
       "<table border=\"1\" class=\"dataframe\">\n",
       "  <thead>\n",
       "    <tr style=\"text-align: right;\">\n",
       "      <th></th>\n",
       "      <th>open</th>\n",
       "      <th>high</th>\n",
       "      <th>low</th>\n",
       "      <th>close</th>\n",
       "      <th>volume</th>\n",
       "    </tr>\n",
       "    <tr>\n",
       "      <th>date</th>\n",
       "      <th></th>\n",
       "      <th></th>\n",
       "      <th></th>\n",
       "      <th></th>\n",
       "      <th></th>\n",
       "    </tr>\n",
       "  </thead>\n",
       "  <tbody>\n",
       "    <tr>\n",
       "      <th>2015-01-21 09:30:00</th>\n",
       "      <td>23.83</td>\n",
       "      <td>23.83</td>\n",
       "      <td>23.83</td>\n",
       "      <td>23.83</td>\n",
       "      <td>100</td>\n",
       "    </tr>\n",
       "    <tr>\n",
       "      <th>2015-01-21 11:00:00</th>\n",
       "      <td>23.98</td>\n",
       "      <td>23.98</td>\n",
       "      <td>23.98</td>\n",
       "      <td>23.98</td>\n",
       "      <td>100</td>\n",
       "    </tr>\n",
       "    <tr>\n",
       "      <th>2015-01-22 15:00:00</th>\n",
       "      <td>24.42</td>\n",
       "      <td>24.42</td>\n",
       "      <td>24.42</td>\n",
       "      <td>24.42</td>\n",
       "      <td>100</td>\n",
       "    </tr>\n",
       "    <tr>\n",
       "      <th>2015-01-22 15:15:00</th>\n",
       "      <td>24.42</td>\n",
       "      <td>24.44</td>\n",
       "      <td>24.42</td>\n",
       "      <td>24.44</td>\n",
       "      <td>200</td>\n",
       "    </tr>\n",
       "    <tr>\n",
       "      <th>2015-01-22 15:30:00</th>\n",
       "      <td>24.46</td>\n",
       "      <td>24.46</td>\n",
       "      <td>24.46</td>\n",
       "      <td>24.46</td>\n",
       "      <td>200</td>\n",
       "    </tr>\n",
       "  </tbody>\n",
       "</table>\n",
       "</div>"
      ],
      "text/plain": [
       "                      open   high    low  close  volume\n",
       "date                                                   \n",
       "2015-01-21 09:30:00  23.83  23.83  23.83  23.83     100\n",
       "2015-01-21 11:00:00  23.98  23.98  23.98  23.98     100\n",
       "2015-01-22 15:00:00  24.42  24.42  24.42  24.42     100\n",
       "2015-01-22 15:15:00  24.42  24.44  24.42  24.44     200\n",
       "2015-01-22 15:30:00  24.46  24.46  24.46  24.46     200"
      ]
     },
     "execution_count": 54,
     "metadata": {},
     "output_type": "execute_result"
    }
   ],
   "source": [
    "# Import the OHLCV dataset into a Pandas Dataframe\n",
    "ohlcv_df = pd.read_csv(\n",
    "    Path(\"./Resources/emerging_markets_ohlcv.csv\"), \n",
    "    index_col='date', \n",
    "    infer_datetime_format=True, \n",
    "    parse_dates=True\n",
    ")\n",
    "\n",
    "# Review the DataFrame\n",
    "ohlcv_df.head()"
   ]
  },
  {
   "cell_type": "code",
   "execution_count": 55,
   "metadata": {},
   "outputs": [
    {
     "data": {
      "text/html": [
       "<div>\n",
       "<style scoped>\n",
       "    .dataframe tbody tr th:only-of-type {\n",
       "        vertical-align: middle;\n",
       "    }\n",
       "\n",
       "    .dataframe tbody tr th {\n",
       "        vertical-align: top;\n",
       "    }\n",
       "\n",
       "    .dataframe thead th {\n",
       "        text-align: right;\n",
       "    }\n",
       "</style>\n",
       "<table border=\"1\" class=\"dataframe\">\n",
       "  <thead>\n",
       "    <tr style=\"text-align: right;\">\n",
       "      <th></th>\n",
       "      <th>close</th>\n",
       "      <th>Actual Returns</th>\n",
       "    </tr>\n",
       "    <tr>\n",
       "      <th>date</th>\n",
       "      <th></th>\n",
       "      <th></th>\n",
       "    </tr>\n",
       "  </thead>\n",
       "  <tbody>\n",
       "    <tr>\n",
       "      <th>2015-01-21 11:00:00</th>\n",
       "      <td>23.98</td>\n",
       "      <td>0.006295</td>\n",
       "    </tr>\n",
       "    <tr>\n",
       "      <th>2015-01-22 15:00:00</th>\n",
       "      <td>24.42</td>\n",
       "      <td>0.018349</td>\n",
       "    </tr>\n",
       "    <tr>\n",
       "      <th>2015-01-22 15:15:00</th>\n",
       "      <td>24.44</td>\n",
       "      <td>0.000819</td>\n",
       "    </tr>\n",
       "    <tr>\n",
       "      <th>2015-01-22 15:30:00</th>\n",
       "      <td>24.46</td>\n",
       "      <td>0.000818</td>\n",
       "    </tr>\n",
       "    <tr>\n",
       "      <th>2015-01-26 12:30:00</th>\n",
       "      <td>24.33</td>\n",
       "      <td>-0.005315</td>\n",
       "    </tr>\n",
       "  </tbody>\n",
       "</table>\n",
       "</div>"
      ],
      "text/plain": [
       "                     close  Actual Returns\n",
       "date                                      \n",
       "2015-01-21 11:00:00  23.98        0.006295\n",
       "2015-01-22 15:00:00  24.42        0.018349\n",
       "2015-01-22 15:15:00  24.44        0.000819\n",
       "2015-01-22 15:30:00  24.46        0.000818\n",
       "2015-01-26 12:30:00  24.33       -0.005315"
      ]
     },
     "metadata": {},
     "output_type": "display_data"
    },
    {
     "data": {
      "text/html": [
       "<div>\n",
       "<style scoped>\n",
       "    .dataframe tbody tr th:only-of-type {\n",
       "        vertical-align: middle;\n",
       "    }\n",
       "\n",
       "    .dataframe tbody tr th {\n",
       "        vertical-align: top;\n",
       "    }\n",
       "\n",
       "    .dataframe thead th {\n",
       "        text-align: right;\n",
       "    }\n",
       "</style>\n",
       "<table border=\"1\" class=\"dataframe\">\n",
       "  <thead>\n",
       "    <tr style=\"text-align: right;\">\n",
       "      <th></th>\n",
       "      <th>close</th>\n",
       "      <th>Actual Returns</th>\n",
       "    </tr>\n",
       "    <tr>\n",
       "      <th>date</th>\n",
       "      <th></th>\n",
       "      <th></th>\n",
       "    </tr>\n",
       "  </thead>\n",
       "  <tbody>\n",
       "    <tr>\n",
       "      <th>2021-01-22 09:30:00</th>\n",
       "      <td>33.27</td>\n",
       "      <td>-0.006866</td>\n",
       "    </tr>\n",
       "    <tr>\n",
       "      <th>2021-01-22 11:30:00</th>\n",
       "      <td>33.35</td>\n",
       "      <td>0.002405</td>\n",
       "    </tr>\n",
       "    <tr>\n",
       "      <th>2021-01-22 13:45:00</th>\n",
       "      <td>33.42</td>\n",
       "      <td>0.002099</td>\n",
       "    </tr>\n",
       "    <tr>\n",
       "      <th>2021-01-22 14:30:00</th>\n",
       "      <td>33.47</td>\n",
       "      <td>0.001496</td>\n",
       "    </tr>\n",
       "    <tr>\n",
       "      <th>2021-01-22 15:45:00</th>\n",
       "      <td>33.44</td>\n",
       "      <td>-0.000896</td>\n",
       "    </tr>\n",
       "  </tbody>\n",
       "</table>\n",
       "</div>"
      ],
      "text/plain": [
       "                     close  Actual Returns\n",
       "date                                      \n",
       "2021-01-22 09:30:00  33.27       -0.006866\n",
       "2021-01-22 11:30:00  33.35        0.002405\n",
       "2021-01-22 13:45:00  33.42        0.002099\n",
       "2021-01-22 14:30:00  33.47        0.001496\n",
       "2021-01-22 15:45:00  33.44       -0.000896"
      ]
     },
     "metadata": {},
     "output_type": "display_data"
    }
   ],
   "source": [
    "# Filter the date index and close columns\n",
    "signals_df = ohlcv_df.loc[:, [\"close\"]]\n",
    "\n",
    "# Use the pct_change function to generate returns from close prices\n",
    "signals_df[\"Actual Returns\"] = signals_df[\"close\"].pct_change()\n",
    "\n",
    "# Drop all NaN values from the DataFrame\n",
    "signals_df = signals_df.dropna()\n",
    "\n",
    "# Review the DataFrame\n",
    "display(signals_df.head())\n",
    "display(signals_df.tail())"
   ]
  },
  {
   "cell_type": "markdown",
   "metadata": {},
   "source": [
    "## Step 2: Generate trading signals using short- and long-window SMA values. "
   ]
  },
  {
   "cell_type": "code",
   "execution_count": 56,
   "metadata": {},
   "outputs": [
    {
     "data": {
      "text/html": [
       "<div>\n",
       "<style scoped>\n",
       "    .dataframe tbody tr th:only-of-type {\n",
       "        vertical-align: middle;\n",
       "    }\n",
       "\n",
       "    .dataframe tbody tr th {\n",
       "        vertical-align: top;\n",
       "    }\n",
       "\n",
       "    .dataframe thead th {\n",
       "        text-align: right;\n",
       "    }\n",
       "</style>\n",
       "<table border=\"1\" class=\"dataframe\">\n",
       "  <thead>\n",
       "    <tr style=\"text-align: right;\">\n",
       "      <th></th>\n",
       "      <th>close</th>\n",
       "      <th>Actual Returns</th>\n",
       "      <th>SMA_Fast</th>\n",
       "      <th>SMA_Slow</th>\n",
       "    </tr>\n",
       "    <tr>\n",
       "      <th>date</th>\n",
       "      <th></th>\n",
       "      <th></th>\n",
       "      <th></th>\n",
       "      <th></th>\n",
       "    </tr>\n",
       "  </thead>\n",
       "  <tbody>\n",
       "    <tr>\n",
       "      <th>2015-04-02 14:45:00</th>\n",
       "      <td>24.92</td>\n",
       "      <td>0.000000</td>\n",
       "      <td>24.9175</td>\n",
       "      <td>24.3214</td>\n",
       "    </tr>\n",
       "    <tr>\n",
       "      <th>2015-04-02 15:00:00</th>\n",
       "      <td>24.92</td>\n",
       "      <td>0.000000</td>\n",
       "      <td>24.9200</td>\n",
       "      <td>24.3308</td>\n",
       "    </tr>\n",
       "    <tr>\n",
       "      <th>2015-04-02 15:15:00</th>\n",
       "      <td>24.94</td>\n",
       "      <td>0.000803</td>\n",
       "      <td>24.9250</td>\n",
       "      <td>24.3360</td>\n",
       "    </tr>\n",
       "    <tr>\n",
       "      <th>2015-04-02 15:30:00</th>\n",
       "      <td>24.95</td>\n",
       "      <td>0.000401</td>\n",
       "      <td>24.9325</td>\n",
       "      <td>24.3411</td>\n",
       "    </tr>\n",
       "    <tr>\n",
       "      <th>2015-04-02 15:45:00</th>\n",
       "      <td>24.98</td>\n",
       "      <td>0.001202</td>\n",
       "      <td>24.9475</td>\n",
       "      <td>24.3463</td>\n",
       "    </tr>\n",
       "  </tbody>\n",
       "</table>\n",
       "</div>"
      ],
      "text/plain": [
       "                     close  Actual Returns  SMA_Fast  SMA_Slow\n",
       "date                                                          \n",
       "2015-04-02 14:45:00  24.92        0.000000   24.9175   24.3214\n",
       "2015-04-02 15:00:00  24.92        0.000000   24.9200   24.3308\n",
       "2015-04-02 15:15:00  24.94        0.000803   24.9250   24.3360\n",
       "2015-04-02 15:30:00  24.95        0.000401   24.9325   24.3411\n",
       "2015-04-02 15:45:00  24.98        0.001202   24.9475   24.3463"
      ]
     },
     "metadata": {},
     "output_type": "display_data"
    },
    {
     "data": {
      "text/html": [
       "<div>\n",
       "<style scoped>\n",
       "    .dataframe tbody tr th:only-of-type {\n",
       "        vertical-align: middle;\n",
       "    }\n",
       "\n",
       "    .dataframe tbody tr th {\n",
       "        vertical-align: top;\n",
       "    }\n",
       "\n",
       "    .dataframe thead th {\n",
       "        text-align: right;\n",
       "    }\n",
       "</style>\n",
       "<table border=\"1\" class=\"dataframe\">\n",
       "  <thead>\n",
       "    <tr style=\"text-align: right;\">\n",
       "      <th></th>\n",
       "      <th>close</th>\n",
       "      <th>Actual Returns</th>\n",
       "      <th>SMA_Fast</th>\n",
       "      <th>SMA_Slow</th>\n",
       "    </tr>\n",
       "    <tr>\n",
       "      <th>date</th>\n",
       "      <th></th>\n",
       "      <th></th>\n",
       "      <th></th>\n",
       "      <th></th>\n",
       "    </tr>\n",
       "  </thead>\n",
       "  <tbody>\n",
       "    <tr>\n",
       "      <th>2021-01-22 09:30:00</th>\n",
       "      <td>33.27</td>\n",
       "      <td>-0.006866</td>\n",
       "      <td>33.2025</td>\n",
       "      <td>30.40215</td>\n",
       "    </tr>\n",
       "    <tr>\n",
       "      <th>2021-01-22 11:30:00</th>\n",
       "      <td>33.35</td>\n",
       "      <td>0.002405</td>\n",
       "      <td>33.2725</td>\n",
       "      <td>30.44445</td>\n",
       "    </tr>\n",
       "    <tr>\n",
       "      <th>2021-01-22 13:45:00</th>\n",
       "      <td>33.42</td>\n",
       "      <td>0.002099</td>\n",
       "      <td>33.3850</td>\n",
       "      <td>30.48745</td>\n",
       "    </tr>\n",
       "    <tr>\n",
       "      <th>2021-01-22 14:30:00</th>\n",
       "      <td>33.47</td>\n",
       "      <td>0.001496</td>\n",
       "      <td>33.3775</td>\n",
       "      <td>30.53085</td>\n",
       "    </tr>\n",
       "    <tr>\n",
       "      <th>2021-01-22 15:45:00</th>\n",
       "      <td>33.44</td>\n",
       "      <td>-0.000896</td>\n",
       "      <td>33.4200</td>\n",
       "      <td>30.57495</td>\n",
       "    </tr>\n",
       "  </tbody>\n",
       "</table>\n",
       "</div>"
      ],
      "text/plain": [
       "                     close  Actual Returns  SMA_Fast  SMA_Slow\n",
       "date                                                          \n",
       "2021-01-22 09:30:00  33.27       -0.006866   33.2025  30.40215\n",
       "2021-01-22 11:30:00  33.35        0.002405   33.2725  30.44445\n",
       "2021-01-22 13:45:00  33.42        0.002099   33.3850  30.48745\n",
       "2021-01-22 14:30:00  33.47        0.001496   33.3775  30.53085\n",
       "2021-01-22 15:45:00  33.44       -0.000896   33.4200  30.57495"
      ]
     },
     "metadata": {},
     "output_type": "display_data"
    }
   ],
   "source": [
    "# Set the short window and long window\n",
    "short_window = 4\n",
    "long_window = 100\n",
    "\n",
    "# Generate the fast and slow simple moving averages (4 and 100 days, respectively)\n",
    "signals_df['SMA_Fast'] = signals_df['close'].rolling(window=short_window).mean()\n",
    "signals_df['SMA_Slow'] = signals_df['close'].rolling(window=long_window).mean()\n",
    "\n",
    "signals_df = signals_df.dropna()\n",
    "\n",
    "# Review the DataFrame\n",
    "display(signals_df.head())\n",
    "display(signals_df.tail())"
   ]
  },
  {
   "cell_type": "code",
   "execution_count": 57,
   "metadata": {},
   "outputs": [
    {
     "data": {
      "text/html": [
       "<div>\n",
       "<style scoped>\n",
       "    .dataframe tbody tr th:only-of-type {\n",
       "        vertical-align: middle;\n",
       "    }\n",
       "\n",
       "    .dataframe tbody tr th {\n",
       "        vertical-align: top;\n",
       "    }\n",
       "\n",
       "    .dataframe thead th {\n",
       "        text-align: right;\n",
       "    }\n",
       "</style>\n",
       "<table border=\"1\" class=\"dataframe\">\n",
       "  <thead>\n",
       "    <tr style=\"text-align: right;\">\n",
       "      <th></th>\n",
       "      <th>close</th>\n",
       "      <th>Actual Returns</th>\n",
       "      <th>SMA_Fast</th>\n",
       "      <th>SMA_Slow</th>\n",
       "      <th>Signal</th>\n",
       "    </tr>\n",
       "    <tr>\n",
       "      <th>date</th>\n",
       "      <th></th>\n",
       "      <th></th>\n",
       "      <th></th>\n",
       "      <th></th>\n",
       "      <th></th>\n",
       "    </tr>\n",
       "  </thead>\n",
       "  <tbody>\n",
       "    <tr>\n",
       "      <th>2015-04-02 14:45:00</th>\n",
       "      <td>24.92</td>\n",
       "      <td>0.000000</td>\n",
       "      <td>24.9175</td>\n",
       "      <td>24.3214</td>\n",
       "      <td>1.0</td>\n",
       "    </tr>\n",
       "    <tr>\n",
       "      <th>2015-04-02 15:00:00</th>\n",
       "      <td>24.92</td>\n",
       "      <td>0.000000</td>\n",
       "      <td>24.9200</td>\n",
       "      <td>24.3308</td>\n",
       "      <td>1.0</td>\n",
       "    </tr>\n",
       "    <tr>\n",
       "      <th>2015-04-02 15:15:00</th>\n",
       "      <td>24.94</td>\n",
       "      <td>0.000803</td>\n",
       "      <td>24.9250</td>\n",
       "      <td>24.3360</td>\n",
       "      <td>1.0</td>\n",
       "    </tr>\n",
       "    <tr>\n",
       "      <th>2015-04-02 15:30:00</th>\n",
       "      <td>24.95</td>\n",
       "      <td>0.000401</td>\n",
       "      <td>24.9325</td>\n",
       "      <td>24.3411</td>\n",
       "      <td>1.0</td>\n",
       "    </tr>\n",
       "    <tr>\n",
       "      <th>2015-04-02 15:45:00</th>\n",
       "      <td>24.98</td>\n",
       "      <td>0.001202</td>\n",
       "      <td>24.9475</td>\n",
       "      <td>24.3463</td>\n",
       "      <td>1.0</td>\n",
       "    </tr>\n",
       "  </tbody>\n",
       "</table>\n",
       "</div>"
      ],
      "text/plain": [
       "                     close  Actual Returns  SMA_Fast  SMA_Slow  Signal\n",
       "date                                                                  \n",
       "2015-04-02 14:45:00  24.92        0.000000   24.9175   24.3214     1.0\n",
       "2015-04-02 15:00:00  24.92        0.000000   24.9200   24.3308     1.0\n",
       "2015-04-02 15:15:00  24.94        0.000803   24.9250   24.3360     1.0\n",
       "2015-04-02 15:30:00  24.95        0.000401   24.9325   24.3411     1.0\n",
       "2015-04-02 15:45:00  24.98        0.001202   24.9475   24.3463     1.0"
      ]
     },
     "metadata": {},
     "output_type": "display_data"
    },
    {
     "data": {
      "text/html": [
       "<div>\n",
       "<style scoped>\n",
       "    .dataframe tbody tr th:only-of-type {\n",
       "        vertical-align: middle;\n",
       "    }\n",
       "\n",
       "    .dataframe tbody tr th {\n",
       "        vertical-align: top;\n",
       "    }\n",
       "\n",
       "    .dataframe thead th {\n",
       "        text-align: right;\n",
       "    }\n",
       "</style>\n",
       "<table border=\"1\" class=\"dataframe\">\n",
       "  <thead>\n",
       "    <tr style=\"text-align: right;\">\n",
       "      <th></th>\n",
       "      <th>close</th>\n",
       "      <th>Actual Returns</th>\n",
       "      <th>SMA_Fast</th>\n",
       "      <th>SMA_Slow</th>\n",
       "      <th>Signal</th>\n",
       "    </tr>\n",
       "    <tr>\n",
       "      <th>date</th>\n",
       "      <th></th>\n",
       "      <th></th>\n",
       "      <th></th>\n",
       "      <th></th>\n",
       "      <th></th>\n",
       "    </tr>\n",
       "  </thead>\n",
       "  <tbody>\n",
       "    <tr>\n",
       "      <th>2021-01-22 09:30:00</th>\n",
       "      <td>33.27</td>\n",
       "      <td>-0.006866</td>\n",
       "      <td>33.2025</td>\n",
       "      <td>30.40215</td>\n",
       "      <td>-1.0</td>\n",
       "    </tr>\n",
       "    <tr>\n",
       "      <th>2021-01-22 11:30:00</th>\n",
       "      <td>33.35</td>\n",
       "      <td>0.002405</td>\n",
       "      <td>33.2725</td>\n",
       "      <td>30.44445</td>\n",
       "      <td>1.0</td>\n",
       "    </tr>\n",
       "    <tr>\n",
       "      <th>2021-01-22 13:45:00</th>\n",
       "      <td>33.42</td>\n",
       "      <td>0.002099</td>\n",
       "      <td>33.3850</td>\n",
       "      <td>30.48745</td>\n",
       "      <td>1.0</td>\n",
       "    </tr>\n",
       "    <tr>\n",
       "      <th>2021-01-22 14:30:00</th>\n",
       "      <td>33.47</td>\n",
       "      <td>0.001496</td>\n",
       "      <td>33.3775</td>\n",
       "      <td>30.53085</td>\n",
       "      <td>1.0</td>\n",
       "    </tr>\n",
       "    <tr>\n",
       "      <th>2021-01-22 15:45:00</th>\n",
       "      <td>33.44</td>\n",
       "      <td>-0.000896</td>\n",
       "      <td>33.4200</td>\n",
       "      <td>30.57495</td>\n",
       "      <td>-1.0</td>\n",
       "    </tr>\n",
       "  </tbody>\n",
       "</table>\n",
       "</div>"
      ],
      "text/plain": [
       "                     close  Actual Returns  SMA_Fast  SMA_Slow  Signal\n",
       "date                                                                  \n",
       "2021-01-22 09:30:00  33.27       -0.006866   33.2025  30.40215    -1.0\n",
       "2021-01-22 11:30:00  33.35        0.002405   33.2725  30.44445     1.0\n",
       "2021-01-22 13:45:00  33.42        0.002099   33.3850  30.48745     1.0\n",
       "2021-01-22 14:30:00  33.47        0.001496   33.3775  30.53085     1.0\n",
       "2021-01-22 15:45:00  33.44       -0.000896   33.4200  30.57495    -1.0"
      ]
     },
     "metadata": {},
     "output_type": "display_data"
    }
   ],
   "source": [
    "# Initialize the new Signal column\n",
    "signals_df['Signal'] = 0.0\n",
    "\n",
    "# When Actual Returns are greater than or equal to 0, generate signal to buy stock long\n",
    "signals_df.loc[(signals_df['Actual Returns'] >= 0), 'Signal'] = 1\n",
    "\n",
    "# When Actual Returns are less than 0, generate signal to sell stock short\n",
    "signals_df.loc[(signals_df['Actual Returns'] < 0), 'Signal'] = -1\n",
    "\n",
    "# Review the DataFrame\n",
    "display(signals_df.head())\n",
    "display(signals_df.tail())"
   ]
  },
  {
   "cell_type": "code",
   "execution_count": 58,
   "metadata": {},
   "outputs": [
    {
     "data": {
      "text/plain": [
       " 1.0    2368\n",
       "-1.0    1855\n",
       "Name: Signal, dtype: int64"
      ]
     },
     "execution_count": 58,
     "metadata": {},
     "output_type": "execute_result"
    }
   ],
   "source": [
    "signals_df['Signal'].value_counts()"
   ]
  },
  {
   "cell_type": "code",
   "execution_count": 59,
   "metadata": {},
   "outputs": [
    {
     "data": {
      "text/html": [
       "<div>\n",
       "<style scoped>\n",
       "    .dataframe tbody tr th:only-of-type {\n",
       "        vertical-align: middle;\n",
       "    }\n",
       "\n",
       "    .dataframe tbody tr th {\n",
       "        vertical-align: top;\n",
       "    }\n",
       "\n",
       "    .dataframe thead th {\n",
       "        text-align: right;\n",
       "    }\n",
       "</style>\n",
       "<table border=\"1\" class=\"dataframe\">\n",
       "  <thead>\n",
       "    <tr style=\"text-align: right;\">\n",
       "      <th></th>\n",
       "      <th>close</th>\n",
       "      <th>Actual Returns</th>\n",
       "      <th>SMA_Fast</th>\n",
       "      <th>SMA_Slow</th>\n",
       "      <th>Signal</th>\n",
       "      <th>Strategy Returns</th>\n",
       "    </tr>\n",
       "    <tr>\n",
       "      <th>date</th>\n",
       "      <th></th>\n",
       "      <th></th>\n",
       "      <th></th>\n",
       "      <th></th>\n",
       "      <th></th>\n",
       "      <th></th>\n",
       "    </tr>\n",
       "  </thead>\n",
       "  <tbody>\n",
       "    <tr>\n",
       "      <th>2015-04-02 14:45:00</th>\n",
       "      <td>24.92</td>\n",
       "      <td>0.000000</td>\n",
       "      <td>24.9175</td>\n",
       "      <td>24.3214</td>\n",
       "      <td>1.0</td>\n",
       "      <td>NaN</td>\n",
       "    </tr>\n",
       "    <tr>\n",
       "      <th>2015-04-02 15:00:00</th>\n",
       "      <td>24.92</td>\n",
       "      <td>0.000000</td>\n",
       "      <td>24.9200</td>\n",
       "      <td>24.3308</td>\n",
       "      <td>1.0</td>\n",
       "      <td>0.000000</td>\n",
       "    </tr>\n",
       "    <tr>\n",
       "      <th>2015-04-02 15:15:00</th>\n",
       "      <td>24.94</td>\n",
       "      <td>0.000803</td>\n",
       "      <td>24.9250</td>\n",
       "      <td>24.3360</td>\n",
       "      <td>1.0</td>\n",
       "      <td>0.000803</td>\n",
       "    </tr>\n",
       "    <tr>\n",
       "      <th>2015-04-02 15:30:00</th>\n",
       "      <td>24.95</td>\n",
       "      <td>0.000401</td>\n",
       "      <td>24.9325</td>\n",
       "      <td>24.3411</td>\n",
       "      <td>1.0</td>\n",
       "      <td>0.000401</td>\n",
       "    </tr>\n",
       "    <tr>\n",
       "      <th>2015-04-02 15:45:00</th>\n",
       "      <td>24.98</td>\n",
       "      <td>0.001202</td>\n",
       "      <td>24.9475</td>\n",
       "      <td>24.3463</td>\n",
       "      <td>1.0</td>\n",
       "      <td>0.001202</td>\n",
       "    </tr>\n",
       "  </tbody>\n",
       "</table>\n",
       "</div>"
      ],
      "text/plain": [
       "                     close  Actual Returns  SMA_Fast  SMA_Slow  Signal  \\\n",
       "date                                                                     \n",
       "2015-04-02 14:45:00  24.92        0.000000   24.9175   24.3214     1.0   \n",
       "2015-04-02 15:00:00  24.92        0.000000   24.9200   24.3308     1.0   \n",
       "2015-04-02 15:15:00  24.94        0.000803   24.9250   24.3360     1.0   \n",
       "2015-04-02 15:30:00  24.95        0.000401   24.9325   24.3411     1.0   \n",
       "2015-04-02 15:45:00  24.98        0.001202   24.9475   24.3463     1.0   \n",
       "\n",
       "                     Strategy Returns  \n",
       "date                                   \n",
       "2015-04-02 14:45:00               NaN  \n",
       "2015-04-02 15:00:00          0.000000  \n",
       "2015-04-02 15:15:00          0.000803  \n",
       "2015-04-02 15:30:00          0.000401  \n",
       "2015-04-02 15:45:00          0.001202  "
      ]
     },
     "metadata": {},
     "output_type": "display_data"
    },
    {
     "data": {
      "text/html": [
       "<div>\n",
       "<style scoped>\n",
       "    .dataframe tbody tr th:only-of-type {\n",
       "        vertical-align: middle;\n",
       "    }\n",
       "\n",
       "    .dataframe tbody tr th {\n",
       "        vertical-align: top;\n",
       "    }\n",
       "\n",
       "    .dataframe thead th {\n",
       "        text-align: right;\n",
       "    }\n",
       "</style>\n",
       "<table border=\"1\" class=\"dataframe\">\n",
       "  <thead>\n",
       "    <tr style=\"text-align: right;\">\n",
       "      <th></th>\n",
       "      <th>close</th>\n",
       "      <th>Actual Returns</th>\n",
       "      <th>SMA_Fast</th>\n",
       "      <th>SMA_Slow</th>\n",
       "      <th>Signal</th>\n",
       "      <th>Strategy Returns</th>\n",
       "    </tr>\n",
       "    <tr>\n",
       "      <th>date</th>\n",
       "      <th></th>\n",
       "      <th></th>\n",
       "      <th></th>\n",
       "      <th></th>\n",
       "      <th></th>\n",
       "      <th></th>\n",
       "    </tr>\n",
       "  </thead>\n",
       "  <tbody>\n",
       "    <tr>\n",
       "      <th>2021-01-22 09:30:00</th>\n",
       "      <td>33.27</td>\n",
       "      <td>-0.006866</td>\n",
       "      <td>33.2025</td>\n",
       "      <td>30.40215</td>\n",
       "      <td>-1.0</td>\n",
       "      <td>-0.006866</td>\n",
       "    </tr>\n",
       "    <tr>\n",
       "      <th>2021-01-22 11:30:00</th>\n",
       "      <td>33.35</td>\n",
       "      <td>0.002405</td>\n",
       "      <td>33.2725</td>\n",
       "      <td>30.44445</td>\n",
       "      <td>1.0</td>\n",
       "      <td>-0.002405</td>\n",
       "    </tr>\n",
       "    <tr>\n",
       "      <th>2021-01-22 13:45:00</th>\n",
       "      <td>33.42</td>\n",
       "      <td>0.002099</td>\n",
       "      <td>33.3850</td>\n",
       "      <td>30.48745</td>\n",
       "      <td>1.0</td>\n",
       "      <td>0.002099</td>\n",
       "    </tr>\n",
       "    <tr>\n",
       "      <th>2021-01-22 14:30:00</th>\n",
       "      <td>33.47</td>\n",
       "      <td>0.001496</td>\n",
       "      <td>33.3775</td>\n",
       "      <td>30.53085</td>\n",
       "      <td>1.0</td>\n",
       "      <td>0.001496</td>\n",
       "    </tr>\n",
       "    <tr>\n",
       "      <th>2021-01-22 15:45:00</th>\n",
       "      <td>33.44</td>\n",
       "      <td>-0.000896</td>\n",
       "      <td>33.4200</td>\n",
       "      <td>30.57495</td>\n",
       "      <td>-1.0</td>\n",
       "      <td>-0.000896</td>\n",
       "    </tr>\n",
       "  </tbody>\n",
       "</table>\n",
       "</div>"
      ],
      "text/plain": [
       "                     close  Actual Returns  SMA_Fast  SMA_Slow  Signal  \\\n",
       "date                                                                     \n",
       "2021-01-22 09:30:00  33.27       -0.006866   33.2025  30.40215    -1.0   \n",
       "2021-01-22 11:30:00  33.35        0.002405   33.2725  30.44445     1.0   \n",
       "2021-01-22 13:45:00  33.42        0.002099   33.3850  30.48745     1.0   \n",
       "2021-01-22 14:30:00  33.47        0.001496   33.3775  30.53085     1.0   \n",
       "2021-01-22 15:45:00  33.44       -0.000896   33.4200  30.57495    -1.0   \n",
       "\n",
       "                     Strategy Returns  \n",
       "date                                   \n",
       "2021-01-22 09:30:00         -0.006866  \n",
       "2021-01-22 11:30:00         -0.002405  \n",
       "2021-01-22 13:45:00          0.002099  \n",
       "2021-01-22 14:30:00          0.001496  \n",
       "2021-01-22 15:45:00         -0.000896  "
      ]
     },
     "metadata": {},
     "output_type": "display_data"
    }
   ],
   "source": [
    "# Calculate the strategy returns and add them to the signals_df DataFrame\n",
    "signals_df['Strategy Returns'] = signals_df['Actual Returns'] * signals_df['Signal'].shift()\n",
    "\n",
    "# Review the DataFrame\n",
    "display(signals_df.head())\n",
    "display(signals_df.tail())"
   ]
  },
  {
   "cell_type": "code",
   "execution_count": 60,
   "metadata": {},
   "outputs": [
    {
     "data": {
      "text/plain": [
       "<AxesSubplot:xlabel='date'>"
      ]
     },
     "execution_count": 60,
     "metadata": {},
     "output_type": "execute_result"
    },
    {
     "data": {
      "image/png": "[encoded data removed]",
      "text/plain": [
       "<Figure size 432x288 with 1 Axes>"
      ]
     },
     "metadata": {
      "needs_background": "light"
     },
     "output_type": "display_data"
    }
   ],
   "source": [
    "# Plot Strategy Returns to examine performance\n",
    "(1 + signals_df['Strategy Returns']).cumprod().plot()"
   ]
  },
  {
   "cell_type": "markdown",
   "metadata": {},
   "source": [
    "### Step 3: Split the data into training and testing datasets."
   ]
  },
  {
   "cell_type": "code",
   "execution_count": 61,
   "metadata": {},
   "outputs": [
    {
     "data": {
      "text/html": [
       "<div>\n",
       "<style scoped>\n",
       "    .dataframe tbody tr th:only-of-type {\n",
       "        vertical-align: middle;\n",
       "    }\n",
       "\n",
       "    .dataframe tbody tr th {\n",
       "        vertical-align: top;\n",
       "    }\n",
       "\n",
       "    .dataframe thead th {\n",
       "        text-align: right;\n",
       "    }\n",
       "</style>\n",
       "<table border=\"1\" class=\"dataframe\">\n",
       "  <thead>\n",
       "    <tr style=\"text-align: right;\">\n",
       "      <th></th>\n",
       "      <th>SMA_Fast</th>\n",
       "      <th>SMA_Slow</th>\n",
       "    </tr>\n",
       "    <tr>\n",
       "      <th>date</th>\n",
       "      <th></th>\n",
       "      <th></th>\n",
       "    </tr>\n",
       "  </thead>\n",
       "  <tbody>\n",
       "    <tr>\n",
       "      <th>2015-04-02 15:00:00</th>\n",
       "      <td>24.9175</td>\n",
       "      <td>24.3214</td>\n",
       "    </tr>\n",
       "    <tr>\n",
       "      <th>2015-04-02 15:15:00</th>\n",
       "      <td>24.9200</td>\n",
       "      <td>24.3308</td>\n",
       "    </tr>\n",
       "    <tr>\n",
       "      <th>2015-04-02 15:30:00</th>\n",
       "      <td>24.9250</td>\n",
       "      <td>24.3360</td>\n",
       "    </tr>\n",
       "    <tr>\n",
       "      <th>2015-04-02 15:45:00</th>\n",
       "      <td>24.9325</td>\n",
       "      <td>24.3411</td>\n",
       "    </tr>\n",
       "    <tr>\n",
       "      <th>2015-04-06 09:30:00</th>\n",
       "      <td>24.9475</td>\n",
       "      <td>24.3463</td>\n",
       "    </tr>\n",
       "  </tbody>\n",
       "</table>\n",
       "</div>"
      ],
      "text/plain": [
       "                     SMA_Fast  SMA_Slow\n",
       "date                                   \n",
       "2015-04-02 15:00:00   24.9175   24.3214\n",
       "2015-04-02 15:15:00   24.9200   24.3308\n",
       "2015-04-02 15:30:00   24.9250   24.3360\n",
       "2015-04-02 15:45:00   24.9325   24.3411\n",
       "2015-04-06 09:30:00   24.9475   24.3463"
      ]
     },
     "execution_count": 61,
     "metadata": {},
     "output_type": "execute_result"
    }
   ],
   "source": [
    "# Assign a copy of the sma_fast and sma_slow columns to a features DataFrame called X\n",
    "X = signals_df[['SMA_Fast', 'SMA_Slow']].shift().dropna()\n",
    "\n",
    "# Review the DataFrame\n",
    "X.head()"
   ]
  },
  {
   "cell_type": "code",
   "execution_count": 62,
   "metadata": {},
   "outputs": [
    {
     "data": {
      "text/plain": [
       " 1.0    2368\n",
       "-1.0    1855\n",
       "Name: Signal, dtype: int64"
      ]
     },
     "execution_count": 62,
     "metadata": {},
     "output_type": "execute_result"
    }
   ],
   "source": [
    "# Create the target set selecting the Signal column and assiging it to y\n",
    "y = signals_df['Signal']\n",
    "\n",
    "# Review the value counts\n",
    "y.value_counts()"
   ]
  },
  {
   "cell_type": "code",
   "execution_count": 63,
   "metadata": {},
   "outputs": [
    {
     "name": "stdout",
     "output_type": "stream",
     "text": [
      "2015-04-02 15:00:00\n"
     ]
    }
   ],
   "source": [
    "# Select the start of the training period\n",
    "training_begin = X.index.min()\n",
    "\n",
    "# Display the training begin date\n",
    "print(training_begin)"
   ]
  },
  {
   "cell_type": "code",
   "execution_count": 64,
   "metadata": {},
   "outputs": [
    {
     "name": "stdout",
     "output_type": "stream",
     "text": [
      "2017-04-02 15:00:00\n"
     ]
    }
   ],
   "source": [
    "# Select the ending period for the training data with an offset of 3 months\n",
    "training_end = X.index.min() + DateOffset(months=24)\n",
    "\n",
    "# Display the training end date\n",
    "print(training_end)"
   ]
  },
  {
   "cell_type": "code",
   "execution_count": 65,
   "metadata": {},
   "outputs": [
    {
     "data": {
      "text/html": [
       "<div>\n",
       "<style scoped>\n",
       "    .dataframe tbody tr th:only-of-type {\n",
       "        vertical-align: middle;\n",
       "    }\n",
       "\n",
       "    .dataframe tbody tr th {\n",
       "        vertical-align: top;\n",
       "    }\n",
       "\n",
       "    .dataframe thead th {\n",
       "        text-align: right;\n",
       "    }\n",
       "</style>\n",
       "<table border=\"1\" class=\"dataframe\">\n",
       "  <thead>\n",
       "    <tr style=\"text-align: right;\">\n",
       "      <th></th>\n",
       "      <th>SMA_Fast</th>\n",
       "      <th>SMA_Slow</th>\n",
       "    </tr>\n",
       "    <tr>\n",
       "      <th>date</th>\n",
       "      <th></th>\n",
       "      <th></th>\n",
       "    </tr>\n",
       "  </thead>\n",
       "  <tbody>\n",
       "    <tr>\n",
       "      <th>2015-04-02 15:00:00</th>\n",
       "      <td>24.9175</td>\n",
       "      <td>24.3214</td>\n",
       "    </tr>\n",
       "    <tr>\n",
       "      <th>2015-04-02 15:15:00</th>\n",
       "      <td>24.9200</td>\n",
       "      <td>24.3308</td>\n",
       "    </tr>\n",
       "    <tr>\n",
       "      <th>2015-04-02 15:30:00</th>\n",
       "      <td>24.9250</td>\n",
       "      <td>24.3360</td>\n",
       "    </tr>\n",
       "    <tr>\n",
       "      <th>2015-04-02 15:45:00</th>\n",
       "      <td>24.9325</td>\n",
       "      <td>24.3411</td>\n",
       "    </tr>\n",
       "    <tr>\n",
       "      <th>2015-04-06 09:30:00</th>\n",
       "      <td>24.9475</td>\n",
       "      <td>24.3463</td>\n",
       "    </tr>\n",
       "  </tbody>\n",
       "</table>\n",
       "</div>"
      ],
      "text/plain": [
       "                     SMA_Fast  SMA_Slow\n",
       "date                                   \n",
       "2015-04-02 15:00:00   24.9175   24.3214\n",
       "2015-04-02 15:15:00   24.9200   24.3308\n",
       "2015-04-02 15:30:00   24.9250   24.3360\n",
       "2015-04-02 15:45:00   24.9325   24.3411\n",
       "2015-04-06 09:30:00   24.9475   24.3463"
      ]
     },
     "execution_count": 65,
     "metadata": {},
     "output_type": "execute_result"
    }
   ],
   "source": [
    "# Generate the X_train and y_train DataFrames\n",
    "X_train = X.loc[training_begin:training_end]\n",
    "y_train = y.loc[training_begin:training_end]\n",
    "\n",
    "# Review the X_train DataFrame\n",
    "X_train.head()\n"
   ]
  },
  {
   "cell_type": "code",
   "execution_count": 66,
   "metadata": {},
   "outputs": [
    {
     "data": {
      "text/html": [
       "<div>\n",
       "<style scoped>\n",
       "    .dataframe tbody tr th:only-of-type {\n",
       "        vertical-align: middle;\n",
       "    }\n",
       "\n",
       "    .dataframe tbody tr th {\n",
       "        vertical-align: top;\n",
       "    }\n",
       "\n",
       "    .dataframe thead th {\n",
       "        text-align: right;\n",
       "    }\n",
       "</style>\n",
       "<table border=\"1\" class=\"dataframe\">\n",
       "  <thead>\n",
       "    <tr style=\"text-align: right;\">\n",
       "      <th></th>\n",
       "      <th>SMA_Fast</th>\n",
       "      <th>SMA_Slow</th>\n",
       "    </tr>\n",
       "    <tr>\n",
       "      <th>date</th>\n",
       "      <th></th>\n",
       "      <th></th>\n",
       "    </tr>\n",
       "  </thead>\n",
       "  <tbody>\n",
       "    <tr>\n",
       "      <th>2015-04-02 15:00:00</th>\n",
       "      <td>24.9175</td>\n",
       "      <td>24.3214</td>\n",
       "    </tr>\n",
       "    <tr>\n",
       "      <th>2015-04-02 15:15:00</th>\n",
       "      <td>24.9200</td>\n",
       "      <td>24.3308</td>\n",
       "    </tr>\n",
       "    <tr>\n",
       "      <th>2015-04-02 15:30:00</th>\n",
       "      <td>24.9250</td>\n",
       "      <td>24.3360</td>\n",
       "    </tr>\n",
       "    <tr>\n",
       "      <th>2015-04-02 15:45:00</th>\n",
       "      <td>24.9325</td>\n",
       "      <td>24.3411</td>\n",
       "    </tr>\n",
       "    <tr>\n",
       "      <th>2015-04-06 09:30:00</th>\n",
       "      <td>24.9475</td>\n",
       "      <td>24.3463</td>\n",
       "    </tr>\n",
       "  </tbody>\n",
       "</table>\n",
       "</div>"
      ],
      "text/plain": [
       "                     SMA_Fast  SMA_Slow\n",
       "date                                   \n",
       "2015-04-02 15:00:00   24.9175   24.3214\n",
       "2015-04-02 15:15:00   24.9200   24.3308\n",
       "2015-04-02 15:30:00   24.9250   24.3360\n",
       "2015-04-02 15:45:00   24.9325   24.3411\n",
       "2015-04-06 09:30:00   24.9475   24.3463"
      ]
     },
     "execution_count": 66,
     "metadata": {},
     "output_type": "execute_result"
    }
   ],
   "source": [
    "# Generate the X_test and y_test DataFrames\n",
    "X_test = X.loc[training_end+DateOffset(hours=1):]\n",
    "y_test = y.loc[training_end+DateOffset(hours=1):]\n",
    "\n",
    "# Review the X_test DataFrame\n",
    "X_train.head()"
   ]
  },
  {
   "cell_type": "code",
   "execution_count": 67,
   "metadata": {},
   "outputs": [],
   "source": [
    "# Scale the features DataFrames\n",
    "\n",
    "# Create a StandardScaler instance\n",
    "scaler = StandardScaler()\n",
    "\n",
    "# Apply the scaler model to fit the X-train data\n",
    "X_scaler = scaler.fit(X_train)\n",
    "\n",
    "# Transform the X_train and X_test DataFrames using the X_scaler\n",
    "X_train_scaled = X_scaler.transform(X_train)\n",
    "X_test_scaled = X_scaler.transform(X_test)"
   ]
  },
  {
   "cell_type": "markdown",
   "metadata": {},
   "source": [
    "### Step 4: Use the `SVC` classifier model from SKLearn's support vector machine (SVM) learning method to fit the training data and make predictions based on the testing data. Review the predictions."
   ]
  },
  {
   "cell_type": "code",
   "execution_count": 68,
   "metadata": {},
   "outputs": [
    {
     "data": {
      "text/plain": [
       "array([1., 1., 1., ..., 1., 1., 1.])"
      ]
     },
     "execution_count": 68,
     "metadata": {},
     "output_type": "execute_result"
    }
   ],
   "source": [
    "# From SVM, instantiate SVC classifier model instance\n",
    "svm_model = svm.SVC()\n",
    " \n",
    "# Fit the model to the data using the training data\n",
    "svm_model = svm_model.fit(X_train_scaled, y_train)\n",
    " \n",
    "# Use the testing data to make the model predictions\n",
    "svm_pred = svm_model.predict(X_test_scaled)\n",
    "\n",
    "# Review the model's predicted values\n",
    "svm_pred"
   ]
  },
  {
   "cell_type": "markdown",
   "metadata": {},
   "source": [
    "### Step 5: Review the classification report associated with the `SVC` model predictions. "
   ]
  },
  {
   "cell_type": "code",
   "execution_count": 69,
   "metadata": {},
   "outputs": [
    {
     "name": "stdout",
     "output_type": "stream",
     "text": [
      "              precision    recall  f1-score   support\n",
      "\n",
      "        -1.0       0.80      0.00      0.01      1229\n",
      "         1.0       0.56      1.00      0.72      1565\n",
      "\n",
      "    accuracy                           0.56      2794\n",
      "   macro avg       0.68      0.50      0.36      2794\n",
      "weighted avg       0.67      0.56      0.41      2794\n",
      "\n"
     ]
    }
   ],
   "source": [
    "# Use a classification report to evaluate the model using the predictions and testing data\n",
    "svm_testing_report = classification_report(y_test, svm_pred)\n",
    "\n",
    "# Print the classification report\n",
    "print(svm_testing_report)"
   ]
  },
  {
   "cell_type": "markdown",
   "metadata": {},
   "source": [
    "### Step 6: Create a predictions DataFrame that contains columns for “Predicted” values, “Actual Returns”, and “Strategy Returns”."
   ]
  },
  {
   "cell_type": "code",
   "execution_count": 70,
   "metadata": {},
   "outputs": [
    {
     "data": {
      "text/html": [
       "<div>\n",
       "<style scoped>\n",
       "    .dataframe tbody tr th:only-of-type {\n",
       "        vertical-align: middle;\n",
       "    }\n",
       "\n",
       "    .dataframe tbody tr th {\n",
       "        vertical-align: top;\n",
       "    }\n",
       "\n",
       "    .dataframe thead th {\n",
       "        text-align: right;\n",
       "    }\n",
       "</style>\n",
       "<table border=\"1\" class=\"dataframe\">\n",
       "  <thead>\n",
       "    <tr style=\"text-align: right;\">\n",
       "      <th></th>\n",
       "      <th>Predicted</th>\n",
       "      <th>Actual Returns</th>\n",
       "      <th>Strategy Returns</th>\n",
       "    </tr>\n",
       "    <tr>\n",
       "      <th>date</th>\n",
       "      <th></th>\n",
       "      <th></th>\n",
       "      <th></th>\n",
       "    </tr>\n",
       "  </thead>\n",
       "  <tbody>\n",
       "    <tr>\n",
       "      <th>2017-04-03 11:15:00</th>\n",
       "      <td>1.0</td>\n",
       "      <td>-0.000438</td>\n",
       "      <td>-0.000438</td>\n",
       "    </tr>\n",
       "    <tr>\n",
       "      <th>2017-04-03 11:30:00</th>\n",
       "      <td>1.0</td>\n",
       "      <td>0.000000</td>\n",
       "      <td>0.000000</td>\n",
       "    </tr>\n",
       "    <tr>\n",
       "      <th>2017-04-03 13:30:00</th>\n",
       "      <td>1.0</td>\n",
       "      <td>0.000438</td>\n",
       "      <td>0.000438</td>\n",
       "    </tr>\n",
       "    <tr>\n",
       "      <th>2017-04-04 09:30:00</th>\n",
       "      <td>1.0</td>\n",
       "      <td>0.006130</td>\n",
       "      <td>0.006130</td>\n",
       "    </tr>\n",
       "    <tr>\n",
       "      <th>2017-04-04 14:00:00</th>\n",
       "      <td>1.0</td>\n",
       "      <td>-0.000870</td>\n",
       "      <td>-0.000870</td>\n",
       "    </tr>\n",
       "  </tbody>\n",
       "</table>\n",
       "</div>"
      ],
      "text/plain": [
       "                     Predicted  Actual Returns  Strategy Returns\n",
       "date                                                            \n",
       "2017-04-03 11:15:00        1.0       -0.000438         -0.000438\n",
       "2017-04-03 11:30:00        1.0        0.000000          0.000000\n",
       "2017-04-03 13:30:00        1.0        0.000438          0.000438\n",
       "2017-04-04 09:30:00        1.0        0.006130          0.006130\n",
       "2017-04-04 14:00:00        1.0       -0.000870         -0.000870"
      ]
     },
     "metadata": {},
     "output_type": "display_data"
    },
    {
     "data": {
      "text/html": [
       "<div>\n",
       "<style scoped>\n",
       "    .dataframe tbody tr th:only-of-type {\n",
       "        vertical-align: middle;\n",
       "    }\n",
       "\n",
       "    .dataframe tbody tr th {\n",
       "        vertical-align: top;\n",
       "    }\n",
       "\n",
       "    .dataframe thead th {\n",
       "        text-align: right;\n",
       "    }\n",
       "</style>\n",
       "<table border=\"1\" class=\"dataframe\">\n",
       "  <thead>\n",
       "    <tr style=\"text-align: right;\">\n",
       "      <th></th>\n",
       "      <th>Predicted</th>\n",
       "      <th>Actual Returns</th>\n",
       "      <th>Strategy Returns</th>\n",
       "    </tr>\n",
       "    <tr>\n",
       "      <th>date</th>\n",
       "      <th></th>\n",
       "      <th></th>\n",
       "      <th></th>\n",
       "    </tr>\n",
       "  </thead>\n",
       "  <tbody>\n",
       "    <tr>\n",
       "      <th>2021-01-22 09:30:00</th>\n",
       "      <td>1.0</td>\n",
       "      <td>-0.006866</td>\n",
       "      <td>-0.006866</td>\n",
       "    </tr>\n",
       "    <tr>\n",
       "      <th>2021-01-22 11:30:00</th>\n",
       "      <td>1.0</td>\n",
       "      <td>0.002405</td>\n",
       "      <td>0.002405</td>\n",
       "    </tr>\n",
       "    <tr>\n",
       "      <th>2021-01-22 13:45:00</th>\n",
       "      <td>1.0</td>\n",
       "      <td>0.002099</td>\n",
       "      <td>0.002099</td>\n",
       "    </tr>\n",
       "    <tr>\n",
       "      <th>2021-01-22 14:30:00</th>\n",
       "      <td>1.0</td>\n",
       "      <td>0.001496</td>\n",
       "      <td>0.001496</td>\n",
       "    </tr>\n",
       "    <tr>\n",
       "      <th>2021-01-22 15:45:00</th>\n",
       "      <td>1.0</td>\n",
       "      <td>-0.000896</td>\n",
       "      <td>-0.000896</td>\n",
       "    </tr>\n",
       "  </tbody>\n",
       "</table>\n",
       "</div>"
      ],
      "text/plain": [
       "                     Predicted  Actual Returns  Strategy Returns\n",
       "date                                                            \n",
       "2021-01-22 09:30:00        1.0       -0.006866         -0.006866\n",
       "2021-01-22 11:30:00        1.0        0.002405          0.002405\n",
       "2021-01-22 13:45:00        1.0        0.002099          0.002099\n",
       "2021-01-22 14:30:00        1.0        0.001496          0.001496\n",
       "2021-01-22 15:45:00        1.0       -0.000896         -0.000896"
      ]
     },
     "metadata": {},
     "output_type": "display_data"
    }
   ],
   "source": [
    "# Create a new empty predictions DataFrame:\n",
    "\n",
    "# Create a predictions DataFrame\n",
    "predictions_df = pd.DataFrame(index=X_test.index)\n",
    "\n",
    "# Add the SVM model predictions to the DataFrame\n",
    "predictions_df['Predicted'] = svm_pred\n",
    "\n",
    "# Add the actual returns to the DataFrame\n",
    "predictions_df['Actual Returns'] = signals_df['Actual Returns']\n",
    "\n",
    "# Add the strategy returns to the DataFrame\n",
    "predictions_df['Strategy Returns'] = predictions_df['Actual Returns'] * predictions_df['Predicted']\n",
    "\n",
    "# Review the DataFrame\n",
    "display(predictions_df.head())\n",
    "display(predictions_df.tail())"
   ]
  },
  {
   "cell_type": "markdown",
   "metadata": {},
   "source": [
    "### Step 7: Create a cumulative return plot that shows the actual returns vs. the strategy returns. Save a PNG image of this plot. This will serve as a baseline against which to compare the effects of tuning the trading algorithm."
   ]
  },
  {
   "cell_type": "code",
   "execution_count": 71,
   "metadata": {},
   "outputs": [
    {
     "data": {
      "image/png": "[encoded data removed]",
      "text/plain": [
       "<Figure size 432x288 with 1 Axes>"
      ]
     },
     "metadata": {
      "needs_background": "light"
     },
     "output_type": "display_data"
    }
   ],
   "source": [
    "# Plot the actual returns versus the strategy returns\n",
    "(1 + predictions_df[['Actual Returns','Strategy Returns']]).cumprod().plot()\n",
    "\n",
    "# Dislpaying the cumulative returns for both strategies with updated length of training data\n",
    "(1 + predictions_df[['Actual Returns','Strategy Returns']]).cumprod()\n",
    "\n",
    "# Making a stand alone plot for SVC\n",
    "SVC_plot = (1 + predictions_df[['Strategy Returns']]).cumprod().hvplot()\n",
    "\n"
   ]
  },
  {
   "cell_type": "markdown",
   "metadata": {},
   "source": [
    "---\n",
    "\n",
    "## Tune the Baseline Trading Algorithm"
   ]
  },
  {
   "cell_type": "markdown",
   "metadata": {},
   "source": [
    "In this section, you’ll tune, or adjust, the model’s input features to find the parameters that result in the best trading outcomes. You’ll choose the best by comparing the cumulative products of the strategy returns."
   ]
  },
  {
   "cell_type": "markdown",
   "metadata": {},
   "source": [
    "### Step 1: Tune the training algorithm by adjusting the size of the training dataset. \n",
    "\n",
    "To do so, slice your data into different periods. Rerun the notebook with the updated parameters, and record the results in your `README.md` file. \n",
    "\n",
    "Answer the following question: What impact resulted from increasing or decreasing the training window?"
   ]
  },
  {
   "cell_type": "markdown",
   "metadata": {},
   "source": [
    "### Step 2: Tune the trading algorithm by adjusting the SMA input features. \n",
    "\n",
    "Adjust one or both of the windows for the algorithm. Rerun the notebook with the updated parameters, and record the results in your `README.md` file. \n",
    "\n",
    "Answer the following question: What impact resulted from increasing or decreasing either or both of the SMA windows?"
   ]
  },
  {
   "cell_type": "markdown",
   "metadata": {},
   "source": [
    "### Step 3: Choose the set of parameters that best improved the trading algorithm returns. \n",
    "\n",
    "Save a PNG image of the cumulative product of the actual returns vs. the strategy returns, and document your conclusion in your `README.md` file."
   ]
  },
  {
   "cell_type": "markdown",
   "metadata": {},
   "source": [
    "---\n",
    "\n",
    "## Evaluate a New Machine Learning Classifier\n",
    "\n",
    "In this section, you’ll use the original parameters that the starter code provided. But, you’ll apply them to the performance of a second machine learning model. "
   ]
  },
  {
   "cell_type": "markdown",
   "metadata": {},
   "source": [
    "### Step 1:  Import a new classifier, such as `AdaBoost`, `DecisionTreeClassifier`, or `LogisticRegression`. (For the full list of classifiers, refer to the [Supervised learning page](https://scikit-learn.org/stable/supervised_learning.html) in the scikit-learn documentation.)"
   ]
  },
  {
   "cell_type": "code",
   "execution_count": 72,
   "metadata": {},
   "outputs": [],
   "source": [
    "# Import a new classifier from SKLearn\n",
    "from sklearn.ensemble import AdaBoostClassifier\n",
    "# Initiate the model instance\n",
    "ada_boost_model = AdaBoostClassifier()"
   ]
  },
  {
   "cell_type": "markdown",
   "metadata": {},
   "source": [
    "### Step 2: Using the original training data as the baseline model, fit another model with the new classifier."
   ]
  },
  {
   "cell_type": "code",
   "execution_count": 73,
   "metadata": {},
   "outputs": [
    {
     "data": {
      "text/plain": [
       "array([ 1.,  1.,  1., ..., -1., -1., -1.])"
      ]
     },
     "execution_count": 73,
     "metadata": {},
     "output_type": "execute_result"
    }
   ],
   "source": [
    "# Fit the model using the training data\n",
    "ada_boost_model = ada_boost_model.fit(X_train_scaled, y_train)\n",
    "\n",
    "# Use the testing dataset to generate the predictions for the new model\n",
    "ada_boost_pred = ada_boost_model.predict(X_test_scaled)\n",
    "\n",
    "# Review the model's predicted values\n",
    "ada_boost_pred"
   ]
  },
  {
   "cell_type": "markdown",
   "metadata": {},
   "source": [
    "### Step 3: Backtest the new model to evaluate its performance. \n",
    "\n",
    "Save a PNG image of the cumulative product of the actual returns vs. the strategy returns for this updated trading algorithm, and write your conclusions in your `README.md` file. \n",
    "\n",
    "Answer the following questions: \n",
    "Did this new model perform better or worse than the provided baseline model? \n",
    "Did this new model perform better or worse than your tuned trading algorithm?"
   ]
  },
  {
   "cell_type": "code",
   "execution_count": 74,
   "metadata": {},
   "outputs": [
    {
     "name": "stdout",
     "output_type": "stream",
     "text": [
      "              precision    recall  f1-score   support\n",
      "\n",
      "        -1.0       0.44      0.49      0.46      1229\n",
      "         1.0       0.56      0.51      0.54      1565\n",
      "\n",
      "    accuracy                           0.50      2794\n",
      "   macro avg       0.50      0.50      0.50      2794\n",
      "weighted avg       0.51      0.50      0.50      2794\n",
      "\n"
     ]
    }
   ],
   "source": [
    "# Use a classification report to evaluate the model using the predictions and testing data\n",
    "ada_testing_report = classification_report(y_test, ada_boost_pred)\n",
    "# Print the classification report\n",
    "print(ada_testing_report)"
   ]
  },
  {
   "cell_type": "code",
   "execution_count": 75,
   "metadata": {},
   "outputs": [
    {
     "data": {
      "text/html": [
       "<div>\n",
       "<style scoped>\n",
       "    .dataframe tbody tr th:only-of-type {\n",
       "        vertical-align: middle;\n",
       "    }\n",
       "\n",
       "    .dataframe tbody tr th {\n",
       "        vertical-align: top;\n",
       "    }\n",
       "\n",
       "    .dataframe thead th {\n",
       "        text-align: right;\n",
       "    }\n",
       "</style>\n",
       "<table border=\"1\" class=\"dataframe\">\n",
       "  <thead>\n",
       "    <tr style=\"text-align: right;\">\n",
       "      <th></th>\n",
       "      <th>Predicted</th>\n",
       "      <th>Actual Returns</th>\n",
       "      <th>ADA Strategy Returns</th>\n",
       "    </tr>\n",
       "    <tr>\n",
       "      <th>date</th>\n",
       "      <th></th>\n",
       "      <th></th>\n",
       "      <th></th>\n",
       "    </tr>\n",
       "  </thead>\n",
       "  <tbody>\n",
       "    <tr>\n",
       "      <th>2017-04-03 11:15:00</th>\n",
       "      <td>1.0</td>\n",
       "      <td>-0.000438</td>\n",
       "      <td>-0.000438</td>\n",
       "    </tr>\n",
       "    <tr>\n",
       "      <th>2017-04-03 11:30:00</th>\n",
       "      <td>1.0</td>\n",
       "      <td>0.000000</td>\n",
       "      <td>0.000000</td>\n",
       "    </tr>\n",
       "    <tr>\n",
       "      <th>2017-04-03 13:30:00</th>\n",
       "      <td>1.0</td>\n",
       "      <td>0.000438</td>\n",
       "      <td>0.000438</td>\n",
       "    </tr>\n",
       "    <tr>\n",
       "      <th>2017-04-04 09:30:00</th>\n",
       "      <td>1.0</td>\n",
       "      <td>0.006130</td>\n",
       "      <td>0.006130</td>\n",
       "    </tr>\n",
       "    <tr>\n",
       "      <th>2017-04-04 14:00:00</th>\n",
       "      <td>1.0</td>\n",
       "      <td>-0.000870</td>\n",
       "      <td>-0.000870</td>\n",
       "    </tr>\n",
       "  </tbody>\n",
       "</table>\n",
       "</div>"
      ],
      "text/plain": [
       "                     Predicted  Actual Returns  ADA Strategy Returns\n",
       "date                                                                \n",
       "2017-04-03 11:15:00        1.0       -0.000438             -0.000438\n",
       "2017-04-03 11:30:00        1.0        0.000000              0.000000\n",
       "2017-04-03 13:30:00        1.0        0.000438              0.000438\n",
       "2017-04-04 09:30:00        1.0        0.006130              0.006130\n",
       "2017-04-04 14:00:00        1.0       -0.000870             -0.000870"
      ]
     },
     "metadata": {},
     "output_type": "display_data"
    },
    {
     "data": {
      "text/html": [
       "<div>\n",
       "<style scoped>\n",
       "    .dataframe tbody tr th:only-of-type {\n",
       "        vertical-align: middle;\n",
       "    }\n",
       "\n",
       "    .dataframe tbody tr th {\n",
       "        vertical-align: top;\n",
       "    }\n",
       "\n",
       "    .dataframe thead th {\n",
       "        text-align: right;\n",
       "    }\n",
       "</style>\n",
       "<table border=\"1\" class=\"dataframe\">\n",
       "  <thead>\n",
       "    <tr style=\"text-align: right;\">\n",
       "      <th></th>\n",
       "      <th>Predicted</th>\n",
       "      <th>Actual Returns</th>\n",
       "      <th>ADA Strategy Returns</th>\n",
       "    </tr>\n",
       "    <tr>\n",
       "      <th>date</th>\n",
       "      <th></th>\n",
       "      <th></th>\n",
       "      <th></th>\n",
       "    </tr>\n",
       "  </thead>\n",
       "  <tbody>\n",
       "    <tr>\n",
       "      <th>2021-01-22 09:30:00</th>\n",
       "      <td>-1.0</td>\n",
       "      <td>-0.006866</td>\n",
       "      <td>0.006866</td>\n",
       "    </tr>\n",
       "    <tr>\n",
       "      <th>2021-01-22 11:30:00</th>\n",
       "      <td>-1.0</td>\n",
       "      <td>0.002405</td>\n",
       "      <td>-0.002405</td>\n",
       "    </tr>\n",
       "    <tr>\n",
       "      <th>2021-01-22 13:45:00</th>\n",
       "      <td>-1.0</td>\n",
       "      <td>0.002099</td>\n",
       "      <td>-0.002099</td>\n",
       "    </tr>\n",
       "    <tr>\n",
       "      <th>2021-01-22 14:30:00</th>\n",
       "      <td>-1.0</td>\n",
       "      <td>0.001496</td>\n",
       "      <td>-0.001496</td>\n",
       "    </tr>\n",
       "    <tr>\n",
       "      <th>2021-01-22 15:45:00</th>\n",
       "      <td>-1.0</td>\n",
       "      <td>-0.000896</td>\n",
       "      <td>0.000896</td>\n",
       "    </tr>\n",
       "  </tbody>\n",
       "</table>\n",
       "</div>"
      ],
      "text/plain": [
       "                     Predicted  Actual Returns  ADA Strategy Returns\n",
       "date                                                                \n",
       "2021-01-22 09:30:00       -1.0       -0.006866              0.006866\n",
       "2021-01-22 11:30:00       -1.0        0.002405             -0.002405\n",
       "2021-01-22 13:45:00       -1.0        0.002099             -0.002099\n",
       "2021-01-22 14:30:00       -1.0        0.001496             -0.001496\n",
       "2021-01-22 15:45:00       -1.0       -0.000896              0.000896"
      ]
     },
     "metadata": {},
     "output_type": "display_data"
    }
   ],
   "source": [
    "# Create a new empty predictions DataFrame:\n",
    "\n",
    "# Create a predictions DataFrame\n",
    "ada_predictions_df = pd.DataFrame(index=X_test.index)\n",
    "# Add the SVM model predictions to the DataFrame\n",
    "ada_predictions_df['Predicted'] = ada_boost_pred\n",
    "# Add the actual returns to the DataFrame\n",
    "ada_predictions_df['Actual Returns'] = signals_df['Actual Returns']\n",
    "# Add the strategy returns to the DataFrame\n",
    "ada_predictions_df['ADA Strategy Returns'] = signals_df['Actual Returns'] * ada_predictions_df['Predicted']\n",
    "# Review the DataFrame\n",
    "display(ada_predictions_df.head())\n",
    "display(ada_predictions_df.tail())\n"
   ]
  },
  {
   "cell_type": "code",
   "execution_count": 76,
   "metadata": {},
   "outputs": [
    {
     "data": {
      "image/png": "[encoded data removed]",
      "text/plain": [
       "<Figure size 432x288 with 1 Axes>"
      ]
     },
     "metadata": {
      "needs_background": "light"
     },
     "output_type": "display_data"
    }
   ],
   "source": [
    "# Plot the actual returns versus the strategy returns\n",
    "(1 + ada_predictions_df[['Actual Returns','ADA Strategy Returns']]).cumprod().plot()\n",
    "\n",
    "# MAking a stand alone plot for the ADA Model\n",
    "ADA_plot = (1 + ada_predictions_df[['ADA Strategy Returns']]).cumprod().hvplot()\n"
   ]
  },
  {
   "cell_type": "code",
   "execution_count": 77,
   "metadata": {},
   "outputs": [
    {
     "data": {},
     "metadata": {},
     "output_type": "display_data"
    },
    {
     "data": {
      "application/vnd.holoviews_exec.v0+json": "",
      "text/html": [
       "<div id='1002'>\n",
       "\n",
       "\n",
       "\n",
       "\n",
       "\n",
       "  <div class=\"bk-root\" id=\"a20f63fc-543b-4468-94be-7f0ba3ddde0a\" data-root-id=\"1002\"></div>\n",
       "</div>\n",
       "<script type=\"application/javascript\">(function(root) {\n",
       "  function embed_document(root) {\n",
       "    var docs_json = {\"97ce8000-4fd3-4f3f-82c9-5c987be940db\":{\"defs\":[{\"extends\":null,\"module\":null,\"name\":\"ReactiveHTML1\",\"overrides\":[],\"properties\":[]},{\"extends\":null,\"module\":null,\"name\":\"FlexBox1\",\"overrides\":[],\"properties\":[{\"default\":\"flex-start\",\"kind\":null,\"name\":\"align_content\"},{\"default\":\"flex-start\",\"kind\":null,\"name\":\"align_items\"},{\"default\":\"row\",\"kind\":null,\"name\":\"flex_direction\"},{\"default\":\"wrap\",\"kind\":null,\"name\":\"flex_wrap\"},{\"default\":\"flex-start\",\"kind\":null,\"name\":\"justify_content\"}]},{\"extends\":null,\"module\":null,\"name\":\"GridStack1\",\"overrides\":[],\"properties\":[{\"default\":\"warn\",\"kind\":null,\"name\":\"mode\"},{\"default\":null,\"kind\":null,\"name\":\"ncols\"},{\"default\":null,\"kind\":null,\"name\":\"nrows\"},{\"default\":true,\"kind\":null,\"name\":\"allow_resize\"},{\"default\":true,\"kind\":null,\"name\":\"allow_drag\"},{\"default\":[],\"kind\":null,\"name\":\"state\"}]},{\"extends\":null,\"module\":null,\"name\":\"click1\",\"overrides\":[],\"properties\":[{\"default\":\"\",\"kind\":null,\"name\":\"terminal_output\"},{\"default\":\"\",\"kind\":null,\"name\":\"debug_name\"},{\"default\":0,\"kind\":null,\"name\":\"clears\"}]},{\"extends\":null,\"module\":null,\"name\":\"TemplateActions1\",\"overrides\":[],\"properties\":[{\"default\":0,\"kind\":null,\"name\":\"open_modal\"},{\"default\":0,\"kind\":null,\"name\":\"close_modal\"}]},{\"extends\":null,\"module\":null,\"name\":\"MaterialTemplateActions1\",\"overrides\":[],\"properties\":[{\"default\":0,\"kind\":null,\"name\":\"open_modal\"},{\"default\":0,\"kind\":null,\"name\":\"close_modal\"}]}],\"roots\":{\"references\":[{\"attributes\":{},\"id\":\"1027\",\"type\":\"WheelZoomTool\"},{\"attributes\":{\"days\":[1,15]},\"id\":\"1081\",\"type\":\"DaysTicker\"},{\"attributes\":{\"below\":[{\"id\":\"1017\"}],\"center\":[{\"id\":\"1020\"},{\"id\":\"1024\"}],\"height\":300,\"left\":[{\"id\":\"1021\"}],\"margin\":[5,5,5,5],\"min_border_bottom\":10,\"min_border_left\":10,\"min_border_right\":10,\"min_border_top\":10,\"renderers\":[{\"id\":\"1051\"},{\"id\":\"1060\"}],\"sizing_mode\":\"fixed\",\"title\":{\"id\":\"1009\"},\"toolbar\":{\"id\":\"1031\"},\"width\":700,\"x_range\":{\"id\":\"1004\"},\"x_scale\":{\"id\":\"1013\"},\"y_range\":{\"id\":\"1005\"},\"y_scale\":{\"id\":\"1015\"}},\"id\":\"1008\",\"subtype\":\"Figure\",\"type\":\"Plot\"},{\"attributes\":{\"margin\":[5,5,5,5],\"name\":\"HSpacer01817\",\"sizing_mode\":\"stretch_width\"},\"id\":\"1003\",\"type\":\"Spacer\"},{\"attributes\":{},\"id\":\"1029\",\"type\":\"ResetTool\"},{\"attributes\":{\"callback\":null,\"formatters\":{\"@{date}\":\"datetime\"},\"renderers\":[{\"id\":\"1051\"}],\"tags\":[\"hv_created\"],\"tooltips\":[[\"date\",\"@{date}{%F %T}\"],[\"Strategy Returns\",\"@{Strategy_Returns}\"]]},\"id\":\"1006\",\"type\":\"HoverTool\"},{\"attributes\":{\"months\":[0,1,2,3,4,5,6,7,8,9,10,11]},\"id\":\"1082\",\"type\":\"MonthsTicker\"},{\"attributes\":{\"months\":[0,2,4,6,8,10]},\"id\":\"1083\",\"type\":\"MonthsTicker\"},{\"attributes\":{},\"id\":\"1013\",\"type\":\"LinearScale\"},{\"attributes\":{\"line_color\":\"#30a2da\",\"line_width\":2,\"x\":{\"field\":\"date\"},\"y\":{\"field\":\"Strategy Returns\"}},\"id\":\"1048\",\"type\":\"Line\"},{\"attributes\":{\"line_alpha\":0.1,\"line_color\":\"#30a2da\",\"line_width\":2,\"x\":{\"field\":\"date\"},\"y\":{\"field\":\"Strategy Returns\"}},\"id\":\"1049\",\"type\":\"Line\"},{\"attributes\":{\"overlay\":{\"id\":\"1030\"}},\"id\":\"1028\",\"type\":\"BoxZoomTool\"},{\"attributes\":{\"num_minor_ticks\":5,\"tickers\":[{\"id\":\"1075\"},{\"id\":\"1076\"},{\"id\":\"1077\"},{\"id\":\"1078\"},{\"id\":\"1079\"},{\"id\":\"1080\"},{\"id\":\"1081\"},{\"id\":\"1082\"},{\"id\":\"1083\"},{\"id\":\"1084\"},{\"id\":\"1085\"},{\"id\":\"1086\"}]},\"id\":\"1018\",\"type\":\"DatetimeTicker\"},{\"attributes\":{},\"id\":\"1041\",\"type\":\"AllLabels\"},{\"attributes\":{\"months\":[0,4,8]},\"id\":\"1084\",\"type\":\"MonthsTicker\"},{\"attributes\":{\"line_color\":\"#fc4f30\",\"line_width\":2,\"x\":{\"field\":\"date\"},\"y\":{\"field\":\"ADA Strategy Returns\"}},\"id\":\"1062\",\"type\":\"Line\"},{\"attributes\":{\"months\":[0,6]},\"id\":\"1085\",\"type\":\"MonthsTicker\"},{\"attributes\":{},\"id\":\"1040\",\"type\":\"DatetimeTickFormatter\"},{\"attributes\":{},\"id\":\"1070\",\"type\":\"UnionRenderers\"},{\"attributes\":{\"bottom_units\":\"screen\",\"coordinates\":null,\"fill_alpha\":0.5,\"fill_color\":\"lightgrey\",\"group\":null,\"left_units\":\"screen\",\"level\":\"overlay\",\"line_alpha\":1.0,\"line_color\":\"black\",\"line_dash\":[4,4],\"line_width\":2,\"right_units\":\"screen\",\"syncable\":false,\"top_units\":\"screen\"},\"id\":\"1030\",\"type\":\"BoxAnnotation\"},{\"attributes\":{\"axis\":{\"id\":\"1017\"},\"coordinates\":null,\"grid_line_color\":null,\"group\":null,\"ticker\":null},\"id\":\"1020\",\"type\":\"Grid\"},{\"attributes\":{},\"id\":\"1086\",\"type\":\"YearsTicker\"},{\"attributes\":{\"axis_label\":\"date\",\"coordinates\":null,\"formatter\":{\"id\":\"1040\"},\"group\":null,\"major_label_policy\":{\"id\":\"1041\"},\"ticker\":{\"id\":\"1018\"}},\"id\":\"1017\",\"type\":\"DatetimeAxis\"},{\"attributes\":{\"line_alpha\":0.2,\"line_color\":\"#fc4f30\",\"line_width\":2,\"x\":{\"field\":\"date\"},\"y\":{\"field\":\"ADA Strategy Returns\"}},\"id\":\"1059\",\"type\":\"Line\"},{\"attributes\":{\"tools\":[{\"id\":\"1006\"},{\"id\":\"1007\"},{\"id\":\"1025\"},{\"id\":\"1026\"},{\"id\":\"1027\"},{\"id\":\"1028\"},{\"id\":\"1029\"}]},\"id\":\"1031\",\"type\":\"Toolbar\"},{\"attributes\":{},\"id\":\"1026\",\"type\":\"PanTool\"},{\"attributes\":{\"end\":1611330300000.0,\"reset_end\":1611330300000.0,\"reset_start\":1491218100000.0,\"start\":1491218100000.0,\"tags\":[[[\"date\",\"date\",null]]]},\"id\":\"1004\",\"type\":\"Range1d\"},{\"attributes\":{},\"id\":\"1015\",\"type\":\"LinearScale\"},{\"attributes\":{\"line_color\":\"#30a2da\",\"line_width\":2,\"x\":{\"field\":\"date\"},\"y\":{\"field\":\"Strategy Returns\"}},\"id\":\"1053\",\"type\":\"Line\"},{\"attributes\":{\"coordinates\":null,\"data_source\":{\"id\":\"1045\"},\"glyph\":{\"id\":\"1048\"},\"group\":null,\"hover_glyph\":null,\"muted_glyph\":{\"id\":\"1050\"},\"nonselection_glyph\":{\"id\":\"1049\"},\"selection_glyph\":{\"id\":\"1053\"},\"view\":{\"id\":\"1052\"}},\"id\":\"1051\",\"type\":\"GlyphRenderer\"},{\"attributes\":{},\"id\":\"1072\",\"type\":\"UnionRenderers\"},{\"attributes\":{\"margin\":[5,5,5,5],\"name\":\"HSpacer01818\",\"sizing_mode\":\"stretch_width\"},\"id\":\"1279\",\"type\":\"Spacer\"},{\"attributes\":{\"line_alpha\":0.2,\"line_color\":\"#30a2da\",\"line_width\":2,\"x\":{\"field\":\"date\"},\"y\":{\"field\":\"Strategy Returns\"}},\"id\":\"1050\",\"type\":\"Line\"},{\"attributes\":{\"callback\":null,\"formatters\":{\"@{date}\":\"datetime\"},\"renderers\":[{\"id\":\"1060\"}],\"tags\":[\"hv_created\"],\"tooltips\":[[\"date\",\"@{date}{%F %T}\"],[\"ADA Strategy Returns\",\"@{ADA_Strategy_Returns}\"]]},\"id\":\"1007\",\"type\":\"HoverTool\"},{\"attributes\":{},\"id\":\"1022\",\"type\":\"BasicTicker\"},{\"attributes\":{\"children\":[{\"id\":\"1003\"},{\"id\":\"1008\"},{\"id\":\"1279\"}],\"margin\":[0,0,0,0],\"name\":\"Row01813\",\"tags\":[\"embedded\"]},\"id\":\"1002\",\"type\":\"Row\"},{\"attributes\":{},\"id\":\"1055\",\"type\":\"Selection\"},{\"attributes\":{\"data\":{\"Strategy Returns\":{\"__ndarray__\":\"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\",\"dtype\":\"float64\",\"order\":\"little\",\"shape\":[2794]},\"Strategy_Returns\":{\"__ndarray__\":\"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\",\"dtype\":\"float64\",\"order\":\"little\",\"shape\":[2794]},\"date\":{\"__ndarray__\":\"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\",\"dtype\":\"float64\",\"order\":\"little\",\"shape\":[2794]}},\"selected\":{\"id\":\"1046\"},\"selection_policy\":{\"id\":\"1070\"}},\"id\":\"1045\",\"type\":\"ColumnDataSource\"},{\"attributes\":{\"source\":{\"id\":\"1054\"}},\"id\":\"1061\",\"type\":\"CDSView\"},{\"attributes\":{\"axis\":{\"id\":\"1021\"},\"coordinates\":null,\"dimension\":1,\"grid_line_color\":null,\"group\":null,\"ticker\":null},\"id\":\"1024\",\"type\":\"Grid\"},{\"attributes\":{\"mantissas\":[1,2,5],\"max_interval\":500.0,\"num_minor_ticks\":0},\"id\":\"1075\",\"type\":\"AdaptiveTicker\"},{\"attributes\":{\"axis_label\":\"Strategy Returns\",\"coordinates\":null,\"formatter\":{\"id\":\"1043\"},\"group\":null,\"major_label_policy\":{\"id\":\"1044\"},\"ticker\":{\"id\":\"1022\"}},\"id\":\"1021\",\"type\":\"LinearAxis\"},{\"attributes\":{\"base\":24,\"mantissas\":[1,2,4,6,8,12],\"max_interval\":43200000.0,\"min_interval\":3600000.0,\"num_minor_ticks\":0},\"id\":\"1077\",\"type\":\"AdaptiveTicker\"},{\"attributes\":{\"coordinates\":null,\"group\":null,\"text_color\":\"black\",\"text_font_size\":\"12pt\"},\"id\":\"1009\",\"type\":\"Title\"},{\"attributes\":{\"base\":60,\"mantissas\":[1,2,5,10,15,20,30],\"max_interval\":1800000.0,\"min_interval\":1000.0,\"num_minor_ticks\":0},\"id\":\"1076\",\"type\":\"AdaptiveTicker\"},{\"attributes\":{\"end\":1.7165034365593117,\"reset_end\":1.7165034365593117,\"reset_start\":0.8665620980297131,\"start\":0.8665620980297131,\"tags\":[[[\"Strategy Returns\",\"Strategy Returns\",null]]]},\"id\":\"1005\",\"type\":\"Range1d\"},{\"attributes\":{\"line_alpha\":0.1,\"line_color\":\"#fc4f30\",\"line_width\":2,\"x\":{\"field\":\"date\"},\"y\":{\"field\":\"ADA Strategy Returns\"}},\"id\":\"1058\",\"type\":\"Line\"},{\"attributes\":{},\"id\":\"1043\",\"type\":\"BasicTickFormatter\"},{\"attributes\":{\"coordinates\":null,\"data_source\":{\"id\":\"1054\"},\"glyph\":{\"id\":\"1057\"},\"group\":null,\"hover_glyph\":null,\"muted_glyph\":{\"id\":\"1059\"},\"nonselection_glyph\":{\"id\":\"1058\"},\"selection_glyph\":{\"id\":\"1062\"},\"view\":{\"id\":\"1061\"}},\"id\":\"1060\",\"type\":\"GlyphRenderer\"},{\"attributes\":{\"source\":{\"id\":\"1045\"}},\"id\":\"1052\",\"type\":\"CDSView\"},{\"attributes\":{\"days\":[1,2,3,4,5,6,7,8,9,10,11,12,13,14,15,16,17,18,19,20,21,22,23,24,25,26,27,28,29,30,31]},\"id\":\"1078\",\"type\":\"DaysTicker\"},{\"attributes\":{},\"id\":\"1046\",\"type\":\"Selection\"},{\"attributes\":{},\"id\":\"1025\",\"type\":\"SaveTool\"},{\"attributes\":{},\"id\":\"1044\",\"type\":\"AllLabels\"},{\"attributes\":{\"days\":[1,4,7,10,13,16,19,22,25,28]},\"id\":\"1079\",\"type\":\"DaysTicker\"},{\"attributes\":{\"days\":[1,8,15,22]},\"id\":\"1080\",\"type\":\"DaysTicker\"},{\"attributes\":{\"line_color\":\"#fc4f30\",\"line_width\":2,\"x\":{\"field\":\"date\"},\"y\":{\"field\":\"ADA Strategy Returns\"}},\"id\":\"1057\",\"type\":\"Line\"},{\"attributes\":{\"data\":{\"ADA Strategy Returns\":{\"__ndarray__\":\"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\",\"dtype\":\"float64\",\"order\":\"little\",\"shape\":[2794]},\"ADA_Strategy_Returns\":{\"__ndarray__\":\"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\",\"dtype\":\"float64\",\"order\":\"little\",\"shape\":[2794]},\"date\":{\"__ndarray__\":\"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\",\"dtype\":\"float64\",\"order\":\"little\",\"shape\":[2794]}},\"selected\":{\"id\":\"1055\"},\"selection_policy\":{\"id\":\"1072\"}},\"id\":\"1054\",\"type\":\"ColumnDataSource\"}],\"root_ids\":[\"1002\"]},\"title\":\"Bokeh Application\",\"version\":\"2.4.2\"}};\n",
       "    var render_items = [{\"docid\":\"97ce8000-4fd3-4f3f-82c9-5c987be940db\",\"root_ids\":[\"1002\"],\"roots\":{\"1002\":\"a20f63fc-543b-4468-94be-7f0ba3ddde0a\"}}];\n",
       "    root.Bokeh.embed.embed_items_notebook(docs_json, render_items);\n",
       "  }\n",
       "  if (root.Bokeh !== undefined && root.Bokeh.Panel !== undefined) {\n",
       "    embed_document(root);\n",
       "  } else {\n",
       "    var attempts = 0;\n",
       "    var timer = setInterval(function(root) {\n",
       "      if (root.Bokeh !== undefined && root.Bokeh.Panel !== undefined) {\n",
       "        clearInterval(timer);\n",
       "        embed_document(root);\n",
       "      } else if (document.readyState == \"complete\") {\n",
       "        attempts++;\n",
       "        if (attempts > 200) {\n",
       "          clearInterval(timer);\n",
       "          console.log(\"Bokeh: ERROR: Unable to run BokehJS code because BokehJS library is missing\");\n",
       "        }\n",
       "      }\n",
       "    }, 25, root)\n",
       "  }\n",
       "})(window);</script>"
      ],
      "text/plain": [
       ":Overlay\n",
       "   .Curve.I  :Curve   [date]   (Strategy Returns)\n",
       "   .Curve.II :Curve   [date]   (ADA Strategy Returns)"
      ]
     },
     "execution_count": 77,
     "metadata": {
      "application/vnd.holoviews_exec.v0+json": {
       "id": "1002"
      }
     },
     "output_type": "execute_result"
    }
   ],
   "source": [
    "# Comparing the plots for SVC and ADA\n",
    "\n",
    "SVC_plot * ADA_plot"
   ]
  }
 ],
 "metadata": {
  "kernelspec": {
   "display_name": "Python 3.7.13 ('MLearning')",
   "language": "python",
   "name": "python3"
  },
  "language_info": {
   "codemirror_mode": {
    "name": "ipython",
    "version": 3
   },
   "file_extension": ".py",
   "mimetype": "text/x-python",
   "name": "python",
   "nbconvert_exporter": "python",
   "pygments_lexer": "ipython3",
   "version": "3.7.13"
  },
  "vscode": {
   "interpreter": {
    "hash": "b560250d69abd6f963a84b4379105e9a010286fdaa68e26c84ef4b755e7a0a6e"
   }
  }
 },
 "nbformat": 4,
 "nbformat_minor": 4
}
